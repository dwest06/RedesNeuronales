{
 "cells": [
  {
   "cell_type": "code",
   "execution_count": 1,
   "metadata": {},
   "outputs": [],
   "source": [
    "import numpy as np\n",
    "import matplotlib.pyplot as plt\n",
    "import csv\n",
    "import time\n",
    "import random"
   ]
  },
  {
   "cell_type": "markdown",
   "metadata": {},
   "source": [
    "#### Definiciones de Perceptron y capa"
   ]
  },
  {
   "cell_type": "code",
   "execution_count": 2,
   "metadata": {},
   "outputs": [],
   "source": [
    "EPOCAS = 10\n",
    "\n",
    "def sigmoid(x):\n",
    "    \"\"\"\n",
    "        Funcion logistica (Sigmoid).\n",
    "    \"\"\"\n",
    "    return 1.0/(1.0+np.exp(-x))\n",
    "\n",
    "def sigmoid_prime(x):\n",
    "    \"\"\"\n",
    "        Funcion logistica (Sigmoid).\n",
    "    \"\"\"\n",
    "    return sigmoid(x)*(1-sigmoid(x))"
   ]
  },
  {
   "cell_type": "code",
   "execution_count": 3,
   "metadata": {},
   "outputs": [],
   "source": [
    "class Perceptron:\n",
    "\n",
    "    def __init__(self, n_entradas, eta=0.1, bias=None, alpha=0.1):\n",
    "        self.pesos_sinapticos = np.random.uniform(\n",
    "            low=-0.05, high=0.05, size=(n_entradas,))\n",
    "        self.n_entradas = n_entradas\n",
    "        self.bias = bias if bias else random.random()\n",
    "        # Tasa de aprendizaje\n",
    "        self.eta = eta\n",
    "        # Constante de momentum\n",
    "        self.alpha = alpha\n",
    "        self.delta_anterior = 0\n",
    "        self.gradiente_local = 0\n",
    "\n",
    "    def calcular(self, estimulo):\n",
    "        # Realizar operaciones vectoriales de numpy\n",
    "        y = np.dot(self.pesos_sinapticos, estimulo)\n",
    "        y += self.bias\n",
    "        self.v = y\n",
    "        self.y = sigmoid(y)\n",
    "        return self.y\n",
    "\n",
    "    def entrenar(self, estimulo):\n",
    "        # eta siendo la tasa de aprendizaje\n",
    "        self.calcular(estimulo)\n",
    "        \n",
    "#         print(type(estimulo), estimulo)\n",
    "        delta = self.alpha * self.delta_anterior \\\n",
    "            * self.eta * self.gradiente_local * estimulo\n",
    "\n",
    "        # Guardamos el nuevo delta\n",
    "        self.delta_anterior = delta\n",
    "\n",
    "        self.pesos_sinapticos += delta\n",
    "        return self.pesos_sinapticos"
   ]
  },
  {
   "cell_type": "code",
   "execution_count": 4,
   "metadata": {},
   "outputs": [],
   "source": [
    "class RedNeuronal:\n",
    "\n",
    "    def __init__(self, n_entrada, n_oculta, n_salida, eta=0.1, alpha=0.1):\n",
    "\n",
    "        self.n_entrada = n_entrada\n",
    "        self.n_oculta = n_oculta\n",
    "        self.n_salida = n_salida\n",
    "\n",
    "        self.capa_oculta = []\n",
    "        self.capa_salida = []\n",
    "        self.bias = []\n",
    "        self.ys = []\n",
    "\n",
    "        self.eta = eta\n",
    "        self.alpha = alpha\n",
    "\n",
    "        self.err = []\n",
    "\n",
    "        # Inicializar las capas\n",
    "        for _ in range(self.n_oculta):\n",
    "            p = Perceptron(self.n_entrada, eta=eta, alpha=alpha)\n",
    "            self.capa_oculta.append(p)\n",
    "\n",
    "        for _ in range(self.n_salida):\n",
    "            p = Perceptron(self.n_oculta, eta=eta, alpha=alpha)\n",
    "            self.capa_salida.append(p)\n",
    "        \n",
    "\n",
    "    def evaluar(self, entrada):\n",
    "\n",
    "        x = entrada\n",
    "        y_oculta = []\n",
    "        y_salida = []\n",
    "\n",
    "        for perceptron in self.capa_oculta:\n",
    "            y = perceptron.calcular(x)\n",
    "            y_oculta.append(y)\n",
    "\n",
    "        for perceptron in self.capa_salida:\n",
    "            y = perceptron.calcular(y_oculta)\n",
    "            y_salida.append(y)\n",
    "            \n",
    "        return y_salida\n",
    "\n",
    "\n",
    "    def entrenar(self, datos, resultados):\n",
    "        error_avg = 0\n",
    "        N = 0\n",
    "        for estimulo, resultado in zip(datos, resultados):\n",
    "        #Feedforward\n",
    "            \n",
    "            # Evaluamos el estimulo\n",
    "            self.evaluar(estimulo)\n",
    "\n",
    "            # Contruimos el arreglo de resultados\n",
    "            # esperados segun la respuesta correcta\n",
    "            esperados = np.array([0.1 for i in range(self.n_salida)])\n",
    "            esperados[int(resultado)] = 0.9\n",
    "\n",
    "\n",
    "        # BackPropagation\n",
    "            \n",
    "            # Capa de salida\n",
    "            for neurona, d  in zip(self.capa_salida, esperados):\n",
    "                error = d - neurona.y\n",
    "                error_avg += (error ** 2)\n",
    "                \n",
    "                # Calculo del gradiente local de la capa de salida\n",
    "                neurona.gradiente_local = error * sigmoid_prime(neurona.v)\n",
    "                \n",
    "                # Actualizacion de pesos de la nuerona\n",
    "                for i in range(len(neurona.pesos_sinapticos)):\n",
    "                    \n",
    "                    delta = self.eta * neurona.gradiente_local * self.capa_oculta[i].y\n",
    "                    momentum = self.alpha * neurona.delta_anterior\n",
    "                    \n",
    "                    # Calculo de delta con momentum\n",
    "                    nuevo_delta = momentum + delta\n",
    "                    # Actualizacion del peso\n",
    "                    neurona.pesos_sinapticos[i] += nuevo_delta\n",
    "                    #Guardar la variacion del peso\n",
    "                    neurona.delta_anterior = nuevo_delta\n",
    "                    \n",
    "            # Capa ocutla\n",
    "            for j, neurona in enumerate(self.capa_oculta):\n",
    "                # Calculamos sigma = Sum de gradientes locales * peso_sinaptico\n",
    "                # correspodiente de cada neurona\n",
    "                sigma = 0\n",
    "                for k in self.capa_salida:\n",
    "                    sigma += k.gradiente_local * k.pesos_sinapticos[j]\n",
    "                neurona.gradiente_local = sigmoid_prime(neurona.v) * sigma\n",
    "\n",
    "                for i in range(len(neurona.pesos_sinapticos)):\n",
    "                    delta = self.eta * neurona.gradiente_local * estimulo[i]\n",
    "                    momentum = self.alpha * neurona.delta_anterior\n",
    "                    \n",
    "                    # Calculo de delta con momentum\n",
    "                    nuevo_delta = momentum + delta\n",
    "                    # Actualizacion del peso\n",
    "                    neurona.pesos_sinapticos[i] += nuevo_delta\n",
    "                    #Guardar variacion del peso\n",
    "                    neurona.delta_anterior = nuevo_delta\n",
    "\n",
    "\n",
    "            N += 1\n",
    "\n",
    "        error_avg = error_avg /(2 * N)\n",
    "        print(\"Error medio\", error_avg)\n",
    "        return error_avg"
   ]
  },
  {
   "cell_type": "code",
   "execution_count": 5,
   "metadata": {},
   "outputs": [],
   "source": [
    "error_medio = []\n",
    "\n",
    "def entrenar(red,train_data, train_exp, epocas=1, ):\n",
    "    \"\"\"\n",
    "    Entrenar la red\n",
    "    \"\"\"\n",
    "    error_medio = []\n",
    "    start = time.time()\n",
    "    print(\"Empezando el entrenamiento...\")\n",
    "    for epoca in range(epocas):\n",
    "        print(f\"Epoca {epoca}\")\n",
    "        err = red.entrenar(train_data, train_exp)\n",
    "        error_medio.append(err)\n",
    "        print(f\"Tiempo: {time.time() - start}seg\\n\")"
   ]
  },
  {
   "cell_type": "code",
   "execution_count": 6,
   "metadata": {},
   "outputs": [],
   "source": [
    "def verificar(red):\n",
    "    \n",
    "    print(\"Verificando entrenamiento...\")\n",
    "    count = 0\n",
    "    buenos = 0\n",
    "    malos = 0\n",
    "    for t, r in zip(test, expected_test):\n",
    "        y_salida = red.evaluar(t)\n",
    "        \n",
    "        # Verificar resultados\n",
    "        prueba = False\n",
    "        if y_salida[int(r)] >= 0.9:\n",
    "            prueba = True\n",
    "        for i, y in enumerate(y_salida):\n",
    "            if i != r and y >= 0.9:\n",
    "                prueba = False\n",
    "        \n",
    "        if prueba:\n",
    "            buenos +=1\n",
    "        else:\n",
    "            malos+=1\n",
    "        count +=1\n",
    "    \n",
    "    print(f\"Datos Leidos: {count}\")\n",
    "    print(f\"Datos buenos {buenos}, {buenos/count}\")\n",
    "    print(f\"Datos malos {malos}, {malos/count}\")"
   ]
  },
  {
   "cell_type": "code",
   "execution_count": 7,
   "metadata": {},
   "outputs": [],
   "source": [
    "# Cargar los datos de entrenamiento\n",
    "train = []\n",
    "expected_train = []\n",
    "test = []\n",
    "expected_test = []\n",
    "with open('../mnist_train.csv') as csv_file:\n",
    "    csv_reader = csv.reader(csv_file, delimiter=',', quoting=csv.QUOTE_NONNUMERIC)\n",
    "    \n",
    "    for row in csv_reader:\n",
    "        train.append(np.array(row[1:]) / 255)\n",
    "        expected_train.append(row[0])\n",
    "        \n",
    "        \n",
    "with open('../mnist_test.csv') as csv_file:\n",
    "    csv_reader = csv.reader(csv_file, delimiter=',', quoting=csv.QUOTE_NONNUMERIC)\n",
    "    \n",
    "    for row in csv_reader:\n",
    "        test.append(np.array(row[1:]) / 255)\n",
    "        expected_test.append(row[0])\n",
    "        "
   ]
  },
  {
   "cell_type": "markdown",
   "metadata": {},
   "source": [
    "Verificamos la proporcion de entrenamientos en el primer cuarto que los datos\n",
    "y el segundo y tercer cuarto juntos."
   ]
  },
  {
   "cell_type": "code",
   "execution_count": 8,
   "metadata": {
    "scrolled": true
   },
   "outputs": [
    {
     "data": {
      "image/png": "[encoded data removed]",
      "text/plain": [
       "<Figure size 432x288 with 1 Axes>"
      ]
     },
     "metadata": {
      "needs_background": "light"
     },
     "output_type": "display_data"
    },
    {
     "data": {
      "image/png": "[encoded data removed]",
      "text/plain": [
       "<Figure size 432x288 with 1 Axes>"
      ]
     },
     "metadata": {
      "needs_background": "light"
     },
     "output_type": "display_data"
    }
   ],
   "source": [
    "a = {}\n",
    "names = [str(i) for i in range(10)]\n",
    "for i in range(10):\n",
    "    a[i] = 0\n",
    "\n",
    "for i in expected_train[:15000]:\n",
    "    a[int(i)] += 1\n",
    "\n",
    "plt.bar (names, a.values())\n",
    "plt.show()\n",
    "\n",
    "a = {}\n",
    "\n",
    "for i in range(10):\n",
    "    a[i] = 0\n",
    "\n",
    "for i in expected_train[15000:45000]:\n",
    "    a[int(i)] += 1\n",
    "\n",
    "\n",
    "plt.bar(names, a.values())\n",
    "plt.show()"
   ]
  },
  {
   "cell_type": "code",
   "execution_count": 9,
   "metadata": {},
   "outputs": [
    {
     "name": "stdout",
     "output_type": "stream",
     "text": [
      "Empezando el entrenamiento...\n",
      "Epoca 0\n",
      "Error medio 0.5268149605633841\n",
      "Tiempo: 2461.7572948932648seg\n",
      "\n",
      "Epoca 1\n",
      "Error medio 0.45671970444243615\n",
      "Tiempo: 4890.474234819412seg\n",
      "\n",
      "Epoca 2\n",
      "Error medio 0.4067879713710133\n",
      "Tiempo: 7217.577487230301seg\n",
      "\n",
      "Epoca 3\n",
      "Error medio 0.38915243810977085\n",
      "Tiempo: 9397.234944105148seg\n",
      "\n",
      "Epoca 4\n",
      "Error medio 0.35552809507558986\n",
      "Tiempo: 11542.238763570786seg\n",
      "\n",
      "Epoca 5\n",
      "Error medio 0.3492133216037379\n",
      "Tiempo: 14120.729318380356seg\n",
      "\n",
      "Epoca 6\n",
      "Error medio 0.3525908306755968\n",
      "Tiempo: 16263.514167308807seg\n",
      "\n",
      "Epoca 7\n",
      "Error medio 0.351159177986842\n",
      "Tiempo: 18407.699812412262seg\n",
      "\n",
      "Epoca 8\n",
      "Error medio 0.3465574321182102\n",
      "Tiempo: 20561.370565891266seg\n",
      "\n",
      "Epoca 9\n",
      "Error medio 0.32631067812172043\n",
      "Tiempo: 22704.454441785812seg\n",
      "\n",
      "Verificando entrenamiento...\n",
      "Datos Leidos: 10000\n",
      "Datos buenos 2552, 0.2552\n",
      "Datos malos 7448, 0.7448\n"
     ]
    },
    {
     "ename": "ValueError",
     "evalue": "x and y must have same first dimension, but have shapes (10,) and (0,)",
     "output_type": "error",
     "traceback": [
      "\u001b[0;31m---------------------------------------------------------------------------\u001b[0m",
      "\u001b[0;31mValueError\u001b[0m                                Traceback (most recent call last)",
      "\u001b[0;32m<ipython-input-9-2365c6627c7b>\u001b[0m in \u001b[0;36m<module>\u001b[0;34m\u001b[0m\n\u001b[1;32m      3\u001b[0m \u001b[0mverificar\u001b[0m\u001b[0;34m(\u001b[0m\u001b[0mr1\u001b[0m\u001b[0;34m)\u001b[0m\u001b[0;34m\u001b[0m\u001b[0;34m\u001b[0m\u001b[0m\n\u001b[1;32m      4\u001b[0m \u001b[0;34m\u001b[0m\u001b[0m\n\u001b[0;32m----> 5\u001b[0;31m \u001b[0mplt\u001b[0m\u001b[0;34m.\u001b[0m\u001b[0mplot\u001b[0m\u001b[0;34m(\u001b[0m\u001b[0;34m[\u001b[0m\u001b[0mi\u001b[0m \u001b[0;32mfor\u001b[0m \u001b[0mi\u001b[0m \u001b[0;32min\u001b[0m \u001b[0mrange\u001b[0m\u001b[0;34m(\u001b[0m\u001b[0mEPOCAS\u001b[0m\u001b[0;34m)\u001b[0m\u001b[0;34m]\u001b[0m\u001b[0;34m,\u001b[0m \u001b[0merror_medio\u001b[0m\u001b[0;34m,\u001b[0m \u001b[0;34m'r-'\u001b[0m\u001b[0;34m)\u001b[0m\u001b[0;34m\u001b[0m\u001b[0;34m\u001b[0m\u001b[0m\n\u001b[0m\u001b[1;32m      6\u001b[0m \u001b[0mplt\u001b[0m\u001b[0;34m.\u001b[0m\u001b[0mxlabel\u001b[0m\u001b[0;34m(\u001b[0m\u001b[0;34m\"Epocas\"\u001b[0m\u001b[0;34m)\u001b[0m\u001b[0;34m\u001b[0m\u001b[0;34m\u001b[0m\u001b[0m\n\u001b[1;32m      7\u001b[0m \u001b[0mplt\u001b[0m\u001b[0;34m.\u001b[0m\u001b[0mylabel\u001b[0m\u001b[0;34m(\u001b[0m\u001b[0;34m\"Error medio\"\u001b[0m\u001b[0;34m)\u001b[0m\u001b[0;34m\u001b[0m\u001b[0;34m\u001b[0m\u001b[0m\n",
      "\u001b[0;32m~/USB/redesNeuronales/env/lib/python3.6/site-packages/matplotlib/pyplot.py\u001b[0m in \u001b[0;36mplot\u001b[0;34m(scalex, scaley, data, *args, **kwargs)\u001b[0m\n\u001b[1;32m   2761\u001b[0m     return gca().plot(\n\u001b[1;32m   2762\u001b[0m         *args, scalex=scalex, scaley=scaley, **({\"data\": data} if data\n\u001b[0;32m-> 2763\u001b[0;31m         is not None else {}), **kwargs)\n\u001b[0m\u001b[1;32m   2764\u001b[0m \u001b[0;34m\u001b[0m\u001b[0m\n\u001b[1;32m   2765\u001b[0m \u001b[0;34m\u001b[0m\u001b[0m\n",
      "\u001b[0;32m~/USB/redesNeuronales/env/lib/python3.6/site-packages/matplotlib/axes/_axes.py\u001b[0m in \u001b[0;36mplot\u001b[0;34m(self, scalex, scaley, data, *args, **kwargs)\u001b[0m\n\u001b[1;32m   1645\u001b[0m         \"\"\"\n\u001b[1;32m   1646\u001b[0m         \u001b[0mkwargs\u001b[0m \u001b[0;34m=\u001b[0m \u001b[0mcbook\u001b[0m\u001b[0;34m.\u001b[0m\u001b[0mnormalize_kwargs\u001b[0m\u001b[0;34m(\u001b[0m\u001b[0mkwargs\u001b[0m\u001b[0;34m,\u001b[0m \u001b[0mmlines\u001b[0m\u001b[0;34m.\u001b[0m\u001b[0mLine2D\u001b[0m\u001b[0;34m)\u001b[0m\u001b[0;34m\u001b[0m\u001b[0;34m\u001b[0m\u001b[0m\n\u001b[0;32m-> 1647\u001b[0;31m         \u001b[0mlines\u001b[0m \u001b[0;34m=\u001b[0m \u001b[0;34m[\u001b[0m\u001b[0;34m*\u001b[0m\u001b[0mself\u001b[0m\u001b[0;34m.\u001b[0m\u001b[0m_get_lines\u001b[0m\u001b[0;34m(\u001b[0m\u001b[0;34m*\u001b[0m\u001b[0margs\u001b[0m\u001b[0;34m,\u001b[0m \u001b[0mdata\u001b[0m\u001b[0;34m=\u001b[0m\u001b[0mdata\u001b[0m\u001b[0;34m,\u001b[0m \u001b[0;34m**\u001b[0m\u001b[0mkwargs\u001b[0m\u001b[0;34m)\u001b[0m\u001b[0;34m]\u001b[0m\u001b[0;34m\u001b[0m\u001b[0;34m\u001b[0m\u001b[0m\n\u001b[0m\u001b[1;32m   1648\u001b[0m         \u001b[0;32mfor\u001b[0m \u001b[0mline\u001b[0m \u001b[0;32min\u001b[0m \u001b[0mlines\u001b[0m\u001b[0;34m:\u001b[0m\u001b[0;34m\u001b[0m\u001b[0;34m\u001b[0m\u001b[0m\n\u001b[1;32m   1649\u001b[0m             \u001b[0mself\u001b[0m\u001b[0;34m.\u001b[0m\u001b[0madd_line\u001b[0m\u001b[0;34m(\u001b[0m\u001b[0mline\u001b[0m\u001b[0;34m)\u001b[0m\u001b[0;34m\u001b[0m\u001b[0;34m\u001b[0m\u001b[0m\n",
      "\u001b[0;32m~/USB/redesNeuronales/env/lib/python3.6/site-packages/matplotlib/axes/_base.py\u001b[0m in \u001b[0;36m__call__\u001b[0;34m(self, *args, **kwargs)\u001b[0m\n\u001b[1;32m    214\u001b[0m                 \u001b[0mthis\u001b[0m \u001b[0;34m+=\u001b[0m \u001b[0margs\u001b[0m\u001b[0;34m[\u001b[0m\u001b[0;36m0\u001b[0m\u001b[0;34m]\u001b[0m\u001b[0;34m,\u001b[0m\u001b[0;34m\u001b[0m\u001b[0;34m\u001b[0m\u001b[0m\n\u001b[1;32m    215\u001b[0m                 \u001b[0margs\u001b[0m \u001b[0;34m=\u001b[0m \u001b[0margs\u001b[0m\u001b[0;34m[\u001b[0m\u001b[0;36m1\u001b[0m\u001b[0;34m:\u001b[0m\u001b[0;34m]\u001b[0m\u001b[0;34m\u001b[0m\u001b[0;34m\u001b[0m\u001b[0m\n\u001b[0;32m--> 216\u001b[0;31m             \u001b[0;32myield\u001b[0m \u001b[0;32mfrom\u001b[0m \u001b[0mself\u001b[0m\u001b[0;34m.\u001b[0m\u001b[0m_plot_args\u001b[0m\u001b[0;34m(\u001b[0m\u001b[0mthis\u001b[0m\u001b[0;34m,\u001b[0m \u001b[0mkwargs\u001b[0m\u001b[0;34m)\u001b[0m\u001b[0;34m\u001b[0m\u001b[0;34m\u001b[0m\u001b[0m\n\u001b[0m\u001b[1;32m    217\u001b[0m \u001b[0;34m\u001b[0m\u001b[0m\n\u001b[1;32m    218\u001b[0m     \u001b[0;32mdef\u001b[0m \u001b[0mget_next_color\u001b[0m\u001b[0;34m(\u001b[0m\u001b[0mself\u001b[0m\u001b[0;34m)\u001b[0m\u001b[0;34m:\u001b[0m\u001b[0;34m\u001b[0m\u001b[0;34m\u001b[0m\u001b[0m\n",
      "\u001b[0;32m~/USB/redesNeuronales/env/lib/python3.6/site-packages/matplotlib/axes/_base.py\u001b[0m in \u001b[0;36m_plot_args\u001b[0;34m(self, tup, kwargs)\u001b[0m\n\u001b[1;32m    340\u001b[0m \u001b[0;34m\u001b[0m\u001b[0m\n\u001b[1;32m    341\u001b[0m         \u001b[0;32mif\u001b[0m \u001b[0mx\u001b[0m\u001b[0;34m.\u001b[0m\u001b[0mshape\u001b[0m\u001b[0;34m[\u001b[0m\u001b[0;36m0\u001b[0m\u001b[0;34m]\u001b[0m \u001b[0;34m!=\u001b[0m \u001b[0my\u001b[0m\u001b[0;34m.\u001b[0m\u001b[0mshape\u001b[0m\u001b[0;34m[\u001b[0m\u001b[0;36m0\u001b[0m\u001b[0;34m]\u001b[0m\u001b[0;34m:\u001b[0m\u001b[0;34m\u001b[0m\u001b[0;34m\u001b[0m\u001b[0m\n\u001b[0;32m--> 342\u001b[0;31m             raise ValueError(f\"x and y must have same first dimension, but \"\n\u001b[0m\u001b[1;32m    343\u001b[0m                              f\"have shapes {x.shape} and {y.shape}\")\n\u001b[1;32m    344\u001b[0m         \u001b[0;32mif\u001b[0m \u001b[0mx\u001b[0m\u001b[0;34m.\u001b[0m\u001b[0mndim\u001b[0m \u001b[0;34m>\u001b[0m \u001b[0;36m2\u001b[0m \u001b[0;32mor\u001b[0m \u001b[0my\u001b[0m\u001b[0;34m.\u001b[0m\u001b[0mndim\u001b[0m \u001b[0;34m>\u001b[0m \u001b[0;36m2\u001b[0m\u001b[0;34m:\u001b[0m\u001b[0;34m\u001b[0m\u001b[0;34m\u001b[0m\u001b[0m\n",
      "\u001b[0;31mValueError\u001b[0m: x and y must have same first dimension, but have shapes (10,) and (0,)"
     ]
    },
    {
     "data": {
      "image/png": "[encoded data removed]",
      "text/plain": [
       "<Figure size 432x288 with 1 Axes>"
      ]
     },
     "metadata": {
      "needs_background": "light"
     },
     "output_type": "display_data"
    }
   ],
   "source": [
    "r1 = RedNeuronal(784,100,10,alpha=0.9)\n",
    "entrenar(r1, train[:15000], expected_train[:15000],EPOCAS)\n",
    "verificar(r1)\n",
    "\n",
    "plt.plot([i for i in range(EPOCAS)], error_medio, 'r-')\n",
    "plt.xlabel(\"Epocas\")\n",
    "plt.ylabel(\"Error medio\")\n",
    "plt.show()"
   ]
  },
  {
   "cell_type": "code",
   "execution_count": 10,
   "metadata": {},
   "outputs": [
    {
     "data": {
      "image/png": "[encoded data removed]",
      "text/plain": [
       "<Figure size 432x288 with 1 Axes>"
      ]
     },
     "metadata": {
      "needs_background": "light"
     },
     "output_type": "display_data"
    }
   ],
   "source": [
    "errores = [0.5268149605633841, 0.45671970444243615, 0.4067879713710133, 0.38915243810977085, \n",
    "           0.35552809507558986, 0.3492133216037379, 0.3525908306755968, 0.351159177986842, \n",
    "           0.3465574321182102, 0.32631067812172043]\n",
    "plt.plot([i for i in range(EPOCAS)], errores, 'r-')\n",
    "plt.xlabel(\"Epocas\")\n",
    "plt.ylabel(\"Error medio\")\n",
    "plt.show()"
   ]
  },
  {
   "cell_type": "code",
   "execution_count": 11,
   "metadata": {},
   "outputs": [
    {
     "name": "stdout",
     "output_type": "stream",
     "text": [
      "Empezando el entrenamiento...\n",
      "Epoca 0\n",
      "Error medio 0.5000031334315771\n",
      "Tiempo: 4480.148468255997seg\n",
      "\n",
      "Epoca 1\n",
      "Error medio 0.4963330871205224\n",
      "Tiempo: 8931.919920921326seg\n",
      "\n",
      "Epoca 2\n"
     ]
    },
    {
     "ename": "KeyboardInterrupt",
     "evalue": "",
     "output_type": "error",
     "traceback": [
      "\u001b[0;31m---------------------------------------------------------------------------\u001b[0m",
      "\u001b[0;31mKeyboardInterrupt\u001b[0m                         Traceback (most recent call last)",
      "\u001b[0;32m<ipython-input-11-f4e7615b51a1>\u001b[0m in \u001b[0;36m<module>\u001b[0;34m\u001b[0m\n\u001b[1;32m      1\u001b[0m \u001b[0mr2\u001b[0m \u001b[0;34m=\u001b[0m \u001b[0mRedNeuronal\u001b[0m\u001b[0;34m(\u001b[0m\u001b[0;36m784\u001b[0m\u001b[0;34m,\u001b[0m\u001b[0;36m100\u001b[0m\u001b[0;34m,\u001b[0m\u001b[0;36m10\u001b[0m\u001b[0;34m,\u001b[0m\u001b[0malpha\u001b[0m\u001b[0;34m=\u001b[0m\u001b[0;36m0.9\u001b[0m\u001b[0;34m)\u001b[0m\u001b[0;34m\u001b[0m\u001b[0;34m\u001b[0m\u001b[0m\n\u001b[0;32m----> 2\u001b[0;31m \u001b[0mentrenar\u001b[0m\u001b[0;34m(\u001b[0m\u001b[0mr2\u001b[0m\u001b[0;34m,\u001b[0m \u001b[0mtrain\u001b[0m\u001b[0;34m[\u001b[0m\u001b[0;36m15000\u001b[0m\u001b[0;34m:\u001b[0m\u001b[0;36m45000\u001b[0m\u001b[0;34m]\u001b[0m\u001b[0;34m,\u001b[0m \u001b[0mexpected_train\u001b[0m\u001b[0;34m[\u001b[0m\u001b[0;36m1500\u001b[0m\u001b[0;34m:\u001b[0m\u001b[0;36m45000\u001b[0m\u001b[0;34m]\u001b[0m\u001b[0;34m,\u001b[0m\u001b[0mEPOCAS\u001b[0m\u001b[0;34m)\u001b[0m\u001b[0;34m\u001b[0m\u001b[0;34m\u001b[0m\u001b[0m\n\u001b[0m\u001b[1;32m      3\u001b[0m \u001b[0mverificar\u001b[0m\u001b[0;34m(\u001b[0m\u001b[0mr2\u001b[0m\u001b[0;34m)\u001b[0m\u001b[0;34m\u001b[0m\u001b[0;34m\u001b[0m\u001b[0m\n\u001b[1;32m      4\u001b[0m \u001b[0;34m\u001b[0m\u001b[0m\n\u001b[1;32m      5\u001b[0m \u001b[0mplt\u001b[0m\u001b[0;34m.\u001b[0m\u001b[0mplot\u001b[0m\u001b[0;34m(\u001b[0m\u001b[0;34m[\u001b[0m\u001b[0mi\u001b[0m \u001b[0;32mfor\u001b[0m \u001b[0mi\u001b[0m \u001b[0;32min\u001b[0m \u001b[0mrange\u001b[0m\u001b[0;34m(\u001b[0m\u001b[0mEPOCAS\u001b[0m\u001b[0;34m)\u001b[0m\u001b[0;34m]\u001b[0m\u001b[0;34m,\u001b[0m \u001b[0merror_medio\u001b[0m\u001b[0;34m,\u001b[0m \u001b[0;34m'r-'\u001b[0m\u001b[0;34m)\u001b[0m\u001b[0;34m\u001b[0m\u001b[0;34m\u001b[0m\u001b[0m\n",
      "\u001b[0;32m<ipython-input-5-c3e59024644e>\u001b[0m in \u001b[0;36mentrenar\u001b[0;34m(red, train_data, train_exp, epocas)\u001b[0m\n\u001b[1;32m     10\u001b[0m     \u001b[0;32mfor\u001b[0m \u001b[0mepoca\u001b[0m \u001b[0;32min\u001b[0m \u001b[0mrange\u001b[0m\u001b[0;34m(\u001b[0m\u001b[0mepocas\u001b[0m\u001b[0;34m)\u001b[0m\u001b[0;34m:\u001b[0m\u001b[0;34m\u001b[0m\u001b[0;34m\u001b[0m\u001b[0m\n\u001b[1;32m     11\u001b[0m         \u001b[0mprint\u001b[0m\u001b[0;34m(\u001b[0m\u001b[0;34mf\"Epoca {epoca}\"\u001b[0m\u001b[0;34m)\u001b[0m\u001b[0;34m\u001b[0m\u001b[0;34m\u001b[0m\u001b[0m\n\u001b[0;32m---> 12\u001b[0;31m         \u001b[0merr\u001b[0m \u001b[0;34m=\u001b[0m \u001b[0mred\u001b[0m\u001b[0;34m.\u001b[0m\u001b[0mentrenar\u001b[0m\u001b[0;34m(\u001b[0m\u001b[0mtrain_data\u001b[0m\u001b[0;34m,\u001b[0m \u001b[0mtrain_exp\u001b[0m\u001b[0;34m)\u001b[0m\u001b[0;34m\u001b[0m\u001b[0;34m\u001b[0m\u001b[0m\n\u001b[0m\u001b[1;32m     13\u001b[0m         \u001b[0merror_medio\u001b[0m\u001b[0;34m.\u001b[0m\u001b[0mappend\u001b[0m\u001b[0;34m(\u001b[0m\u001b[0merr\u001b[0m\u001b[0;34m)\u001b[0m\u001b[0;34m\u001b[0m\u001b[0;34m\u001b[0m\u001b[0m\n\u001b[1;32m     14\u001b[0m         \u001b[0mprint\u001b[0m\u001b[0;34m(\u001b[0m\u001b[0;34mf\"Tiempo: {time.time() - start}seg\\n\"\u001b[0m\u001b[0;34m)\u001b[0m\u001b[0;34m\u001b[0m\u001b[0;34m\u001b[0m\u001b[0m\n",
      "\u001b[0;32m<ipython-input-4-bdc2e90b849f>\u001b[0m in \u001b[0;36mentrenar\u001b[0;34m(self, datos, resultados)\u001b[0m\n\u001b[1;32m     98\u001b[0m                     \u001b[0mnuevo_delta\u001b[0m \u001b[0;34m=\u001b[0m \u001b[0mmomentum\u001b[0m \u001b[0;34m+\u001b[0m \u001b[0mdelta\u001b[0m\u001b[0;34m\u001b[0m\u001b[0;34m\u001b[0m\u001b[0m\n\u001b[1;32m     99\u001b[0m                     \u001b[0;31m# Actualizacion del peso\u001b[0m\u001b[0;34m\u001b[0m\u001b[0;34m\u001b[0m\u001b[0;34m\u001b[0m\u001b[0m\n\u001b[0;32m--> 100\u001b[0;31m                     \u001b[0mneurona\u001b[0m\u001b[0;34m.\u001b[0m\u001b[0mpesos_sinapticos\u001b[0m\u001b[0;34m[\u001b[0m\u001b[0mi\u001b[0m\u001b[0;34m]\u001b[0m \u001b[0;34m+=\u001b[0m \u001b[0mnuevo_delta\u001b[0m\u001b[0;34m\u001b[0m\u001b[0;34m\u001b[0m\u001b[0m\n\u001b[0m\u001b[1;32m    101\u001b[0m                     \u001b[0;31m#Guardar variacion del peso\u001b[0m\u001b[0;34m\u001b[0m\u001b[0;34m\u001b[0m\u001b[0;34m\u001b[0m\u001b[0m\n\u001b[1;32m    102\u001b[0m                     \u001b[0mneurona\u001b[0m\u001b[0;34m.\u001b[0m\u001b[0mdelta_anterior\u001b[0m \u001b[0;34m=\u001b[0m \u001b[0mnuevo_delta\u001b[0m\u001b[0;34m\u001b[0m\u001b[0;34m\u001b[0m\u001b[0m\n",
      "\u001b[0;31mKeyboardInterrupt\u001b[0m: "
     ]
    }
   ],
   "source": [
    "r2 = RedNeuronal(784,100,10,alpha=0.9)\n",
    "entrenar(r2, train[15000:45000], expected_train[1500:45000],EPOCAS)\n",
    "verificar(r2)\n",
    "\n",
    "plt.plot([i for i in range(EPOCAS)], error_medio, 'r-')\n",
    "plt.xlabel(\"Epocas\")\n",
    "plt.ylabel(\"Error medio\")\n",
    "plt.show()"
   ]
  }
 ],
 "metadata": {
  "kernelspec": {
   "display_name": "Python 3.6.9 64-bit",
   "language": "python",
   "name": "python36964bit19b03d1776a141f8a54345732b0d5224"
  },
  "language_info": {
   "codemirror_mode": {
    "name": "ipython",
    "version": 3
   },
   "file_extension": ".py",
   "mimetype": "text/x-python",
   "name": "python",
   "nbconvert_exporter": "python",
   "pygments_lexer": "ipython3",
   "version": "3.6.9"
  }
 },
 "nbformat": 4,
 "nbformat_minor": 4
}
