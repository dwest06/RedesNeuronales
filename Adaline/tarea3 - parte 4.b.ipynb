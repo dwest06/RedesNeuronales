{
 "cells": [
  {
   "cell_type": "code",
   "execution_count": 1,
   "metadata": {},
   "outputs": [],
   "source": [
    "import numpy as np\n",
    "import matplotlib.pyplot as plt"
   ]
  },
  {
   "cell_type": "markdown",
   "metadata": {},
   "source": [
    "#### Constantes"
   ]
  },
  {
   "cell_type": "code",
   "execution_count": 27,
   "metadata": {},
   "outputs": [],
   "source": [
    "A = 0.8182\n",
    "B = 0.354\n",
    "MAX_ITER = 500"
   ]
  },
  {
   "cell_type": "markdown",
   "metadata": {},
   "source": [
    "#### Gradiente de E(W)"
   ]
  },
  {
   "cell_type": "code",
   "execution_count": 6,
   "metadata": {},
   "outputs": [],
   "source": [
    "def deltaw1(w1,w2):\n",
    "    return -A + w1 + A*w2\n",
    "\n",
    "def deltaw2(w1,w2):\n",
    "    return -B + A*w1 + w2"
   ]
  },
  {
   "cell_type": "code",
   "execution_count": 29,
   "metadata": {},
   "outputs": [],
   "source": [
    "def descenso_gradiente(etha, x0, y0, xmin, ymin):\n",
    "    X = np.array([x0])\n",
    "    Y = np.array([y0])\n",
    "\n",
    "    w = np.array([x0,y0])\n",
    "\n",
    "    # Definimos los valores minimos con los que se puede \n",
    "    # parar la ejecucion del descenso del gradiente\n",
    "    comparador = np.array([xmin,ymin])\n",
    "\n",
    "    iteraciones = None\n",
    "\n",
    "    for i in range(MAX_ITER):\n",
    "        grad = etha * np.array([deltaw1(w[0], w[1]) , deltaw2(w[0], w[1])])\n",
    "        w = w - grad\n",
    "        X = np.append(X, w[0])\n",
    "        Y = np.append(Y, w[1])\n",
    "\n",
    "        # Comparamos el resultado del gradiente con los valores\n",
    "        # minimos predefinidos\n",
    "        if (comparador > np.absolute(grad)).all():\n",
    "            iteraciones = i\n",
    "            break\n",
    "\n",
    "\n",
    "    plt.plot(X,Y, 'bo')\n",
    "    plt.show()\n",
    "    print(f\"Valores finales W: [{X[-1]} {Y[-1]}]\")\n",
    "    print(f\"Iteraciones: {iteraciones if iteraciones else MAX_ITER}\" )"
   ]
  },
  {
   "cell_type": "markdown",
   "metadata": {},
   "source": [
    "### Probando con etha = 0.3"
   ]
  },
  {
   "cell_type": "code",
   "execution_count": 30,
   "metadata": {},
   "outputs": [
    {
     "data": {
      "image/png": "[encoded data removed]",
      "text/plain": [
       "<Figure size 432x288 with 1 Axes>"
      ]
     },
     "metadata": {
      "needs_background": "light"
     },
     "output_type": "display_data"
    },
    {
     "name": "stdout",
     "output_type": "stream",
     "text": [
      "Valores finales W: [1.5988583073531144 -0.9541547543886439]\n",
      "Iteraciones: 158\n"
     ]
    }
   ],
   "source": [
    "descenso_gradiente(0.3, 0,0, 0.00001, 0.00001)"
   ]
  },
  {
   "cell_type": "markdown",
   "metadata": {},
   "source": [
    "### Probando con etha = 1.0"
   ]
  },
  {
   "cell_type": "code",
   "execution_count": 33,
   "metadata": {},
   "outputs": [
    {
     "data": {
      "image/png": "[encoded data removed]",
      "text/plain": [
       "<Figure size 432x288 with 1 Axes>"
      ]
     },
     "metadata": {
      "needs_background": "light"
     },
     "output_type": "display_data"
    },
    {
     "name": "stdout",
     "output_type": "stream",
     "text": [
      "Valores finales W: [1.5990153284319861 -0.954317466743197]\n",
      "Iteraciones: 57\n"
     ]
    }
   ],
   "source": [
    "descenso_gradiente(1, 0,0, 0.00001, 0.00001)"
   ]
  }
 ],
 "metadata": {
  "kernelspec": {
   "display_name": "Python 3",
   "language": "python",
   "name": "python3"
  },
  "language_info": {
   "codemirror_mode": {
    "name": "ipython",
    "version": 3
   },
   "file_extension": ".py",
   "mimetype": "text/x-python",
   "name": "python",
   "nbconvert_exporter": "python",
   "pygments_lexer": "ipython3",
   "version": "3.6.9"
  }
 },
 "nbformat": 4,
 "nbformat_minor": 4
}
