{
 "cells": [
  {
   "cell_type": "code",
   "execution_count": 16,
   "metadata": {},
   "outputs": [],
   "source": [
    "import numpy as np\n",
    "import matplotlib.pyplot as plt\n",
    "import csv\n",
    "from random import uniform"
   ]
  },
  {
   "cell_type": "code",
   "execution_count": 28,
   "metadata": {},
   "outputs": [],
   "source": [
    "class Adaline:\n",
    "\n",
    "    def __init__(self, n_entradas, bias=None, alfa=0.1):\n",
    "        self.pesos_sinapticos = np.random.uniform(\n",
    "            low=-0.05, high=0.05, size=(n_entradas,))\n",
    "        self.n_entradas = n_entradas\n",
    "        self.bias = bias if bias is not None else uniform(0,0.1)\n",
    "        self.alfa = alfa\n",
    "\n",
    "    def calcular(self, estimulo):\n",
    "        y = np.dot(self.pesos_sinapticos, estimulo)\n",
    "        y += self.bias\n",
    "        self.y = self.lineal(y)\n",
    "        return self.y\n",
    "\n",
    "    def entrenar_estocastico(self, estimulo, resultado_esperado):\n",
    "        \"\"\"\n",
    "            LMS Estocastico\n",
    "        \"\"\"\n",
    "        self.calcular(estimulo)\n",
    "        error = (resultado_esperado - self.y)\n",
    "        delta = (self.alfa * error) * estimulo\n",
    "        \n",
    "        # Actualizacion\n",
    "        self.pesos_sinapticos = self.pesos_sinapticos + delta\n",
    "        self.bias = self.bias + error * self.alfa\n",
    "        return self.pesos_sinapticos\n",
    "\n",
    "    def entrenar_batch(self, estimulos, resultados_esperados):\n",
    "        \"\"\"\n",
    "            LMS Batch\n",
    "        \"\"\"\n",
    "        delta = np.zeros(self.n_entradas)\n",
    "        for estimulo, respuesta in zip(estimulos, resultados_esperados):\n",
    "            self.calcular(estimulo)\n",
    "            error = (respuesta - self.y)\n",
    "            delta += error * estimulo\n",
    "            self.bias += error * self.alfa\n",
    "        self.pesos_sinapticos = self.pesos_sinapticos + self.alfa * delta\n",
    "\n",
    "    # Por seguir con el algoritmo\n",
    "    def lineal(self, a):\n",
    "        \"\"\"\n",
    "            Funcion de transferencia lineal\n",
    "        \"\"\"\n",
    "        return a\n",
    "\n",
    "    def describir(self):\n",
    "        print(\"PESOS SINAPTICOS: \", self.pesos_sinapticos)\n",
    "        print(\"BIAS: \", self.bias)\n",
    "        print(\"RESPUESTA: \", self.y)\n"
   ]
  },
  {
   "cell_type": "markdown",
   "metadata": {},
   "source": [
    "#### Vemos que grafica genera los puntos dados\n",
    "Esto con el fin de tener una nocion del grado de la funcion a aproximar"
   ]
  },
  {
   "cell_type": "code",
   "execution_count": 2,
   "metadata": {},
   "outputs": [
    {
     "data": {
      "image/png": "[encoded data removed]",
      "text/plain": [
       "<Figure size 432x288 with 1 Axes>"
      ]
     },
     "metadata": {
      "needs_background": "light"
     },
     "output_type": "display_data"
    }
   ],
   "source": [
    "X = np.array([])\n",
    "Y = np.array([])\n",
    "\n",
    "with open('datosT3.csv') as csv_file:\n",
    "    csv_reader = csv.reader(csv_file, delimiter=',', quoting=csv.QUOTE_NONNUMERIC)\n",
    "    for row in csv_reader:\n",
    "        X = np.append(X, [row[0]])\n",
    "        Y = np.append(Y, [row[1]])\n",
    "        \n",
    "plt.plot(X,Y, 'bo')\n",
    "plt.show()"
   ]
  },
  {
   "cell_type": "markdown",
   "metadata": {},
   "source": [
    "#### Definimos tres funciones\n",
    "La primera para entrenar a la neurona\n",
    "Recibe el Vector de puntos en X y el vector de puntos en Y\n",
    "\n",
    "La segunda es para graficar la funcion segun una serie de puntos en X\n",
    "\n",
    "la tercera para ver el error cuadratico medio de la neurona"
   ]
  },
  {
   "cell_type": "code",
   "execution_count": 21,
   "metadata": {},
   "outputs": [],
   "source": [
    "def entrenar_neurona(adaline, X, Y):\n",
    "    for i, j in zip(X,Y):\n",
    "        datosX = []\n",
    "        for k in range(1,adaline.n_entradas+1):\n",
    "            datosX.append(i**k)\n",
    "            \n",
    "#         print(datosX, j)\n",
    "        adaline.entrenar_estocastico(np.array(datosX), j)"
   ]
  },
  {
   "cell_type": "code",
   "execution_count": 22,
   "metadata": {},
   "outputs": [],
   "source": [
    "def graficar_funcion(adaline):\n",
    "    grafX = []\n",
    "    grafY = []\n",
    "    for x in np.arange(-2,2,0.1):\n",
    "        datosX = []\n",
    "        for n in range(1,adaline.n_entradas+1):\n",
    "            datosX.append(x**n)\n",
    "        y = adaline.calcular(np.array(datosX))\n",
    "        \n",
    "        grafX.append(x)\n",
    "        grafY.append(y)\n",
    "        \n",
    "#     print(grafX,grafY)\n",
    "    plt.plot(X,Y, 'bo', grafX, grafY, 'r-')\n",
    "    plt.show()"
   ]
  },
  {
   "cell_type": "code",
   "execution_count": 50,
   "metadata": {},
   "outputs": [],
   "source": [
    " def error_cuadratico_medio(adaline):\n",
    "        sigma = 0\n",
    "        for i, j in zip(X,Y):\n",
    "            datosX = []\n",
    "            for k in range(1,adaline.n_entradas+1):\n",
    "                datosX.append(i**k)\n",
    "            adaline.calcular(np.array(datosX))\n",
    "            error = (j - adaline.y)\n",
    "            sigma += error**2\n",
    "            \n",
    "        sigma/=2\n",
    "        return sigma"
   ]
  },
  {
   "cell_type": "code",
   "execution_count": 51,
   "metadata": {},
   "outputs": [],
   "source": [
    "adaline = Adaline(3, 0, 0.001)"
   ]
  },
  {
   "cell_type": "code",
   "execution_count": 52,
   "metadata": {},
   "outputs": [],
   "source": [
    "for i in range(100):\n",
    "    entrenar_neurona(adaline, X, Y)"
   ]
  },
  {
   "cell_type": "code",
   "execution_count": 53,
   "metadata": {},
   "outputs": [
    {
     "name": "stdout",
     "output_type": "stream",
     "text": [
      "PESOS SINAPTICOS:  [0.13018261 0.01890923 0.39603469]\n",
      "BIAS:  -0.015782051133746474\n",
      "RESPUESTA:  3.4953902541050215\n"
     ]
    },
    {
     "data": {
      "image/png": "[encoded data removed]",
      "text/plain": [
       "<Figure size 432x288 with 1 Axes>"
      ]
     },
     "metadata": {
      "needs_background": "light"
     },
     "output_type": "display_data"
    },
    {
     "data": {
      "text/plain": [
       "5.550325500934062"
      ]
     },
     "execution_count": 53,
     "metadata": {},
     "output_type": "execute_result"
    }
   ],
   "source": [
    "adaline.describir()\n",
    "graficar_funcion(adaline)\n",
    "error_cuadratico_medio(adaline)"
   ]
  },
  {
   "cell_type": "code",
   "execution_count": 56,
   "metadata": {},
   "outputs": [
    {
     "name": "stdout",
     "output_type": "stream",
     "text": [
      "PESOS SINAPTICOS:  [0.15695267 0.05923192 0.36282439]\n",
      "BIAS:  -0.042811521451297685\n",
      "RESPUESTA:  3.3897439995980845\n"
     ]
    },
    {
     "data": {
      "image/png": "[encoded data removed]",
      "text/plain": [
       "<Figure size 432x288 with 1 Axes>"
      ]
     },
     "metadata": {
      "needs_background": "light"
     },
     "output_type": "display_data"
    },
    {
     "data": {
      "text/plain": [
       "6.111889458861975"
      ]
     },
     "execution_count": 56,
     "metadata": {},
     "output_type": "execute_result"
    }
   ],
   "source": [
    "ada2 = Adaline(3,0,0.01)\n",
    "for i in range(100):\n",
    "    entrenar_neurona(ada2, X, Y)\n",
    "ada2.describir()\n",
    "graficar_funcion(ada2)\n",
    "error_cuadratico_medio(ada2)"
   ]
  },
  {
   "cell_type": "code",
   "execution_count": 57,
   "metadata": {},
   "outputs": [
    {
     "name": "stdout",
     "output_type": "stream",
     "text": [
      "PESOS SINAPTICOS:  [0.12557126 0.00572428 0.40152262]\n",
      "BIAS:  0.008003454076626485\n",
      "RESPUESTA:  3.4949092811104245\n"
     ]
    },
    {
     "data": {
      "image/png": "[encoded data removed]",
      "text/plain": [
       "<Figure size 432x288 with 1 Axes>"
      ]
     },
     "metadata": {
      "needs_background": "light"
     },
     "output_type": "display_data"
    },
    {
     "data": {
      "text/plain": [
       "5.555061541191639"
      ]
     },
     "execution_count": 57,
     "metadata": {},
     "output_type": "execute_result"
    }
   ],
   "source": [
    "ada25 = Adaline(3,0,0.0001)\n",
    "for i in range(100):\n",
    "    entrenar_neurona(ada25, X, Y)\n",
    "ada25.describir()\n",
    "graficar_funcion(ada25)\n",
    "error_cuadratico_medio(ada25)"
   ]
  },
  {
   "cell_type": "code",
   "execution_count": 55,
   "metadata": {},
   "outputs": [
    {
     "name": "stdout",
     "output_type": "stream",
     "text": [
      "PESOS SINAPTICOS:  [ 1.49769102  2.86243363 -0.486296   -1.52733591]\n",
      "BIAS:  -0.6198208022297176\n",
      "RESPUESTA:  10.848634792174648\n"
     ]
    },
    {
     "data": {
      "image/png": "[encoded data removed]",
      "text/plain": [
       "<Figure size 432x288 with 1 Axes>"
      ]
     },
     "metadata": {
      "needs_background": "light"
     },
     "output_type": "display_data"
    },
    {
     "data": {
      "text/plain": [
       "913.9674008833546"
      ]
     },
     "execution_count": 55,
     "metadata": {},
     "output_type": "execute_result"
    }
   ],
   "source": [
    "ada3 = Adaline(4,0,0.01)\n",
    "for i in range(100):\n",
    "    entrenar_neurona(ada3, X, Y)\n",
    "ada3.describir()\n",
    "graficar_funcion(ada3)\n",
    "error_cuadratico_medio(ada3)"
   ]
  },
  {
   "cell_type": "code",
   "execution_count": 54,
   "metadata": {},
   "outputs": [
    {
     "name": "stdout",
     "output_type": "stream",
     "text": [
      "PESOS SINAPTICOS:  [ 0.29068377  0.12069861  0.20026056 -0.03651819  0.04153606]\n",
      "BIAS:  -0.04201377826820124\n",
      "RESPUESTA:  3.538147661737447\n"
     ]
    },
    {
     "data": {
      "image/png": "[encoded data removed]",
      "text/plain": [
       "<Figure size 432x288 with 1 Axes>"
      ]
     },
     "metadata": {
      "needs_background": "light"
     },
     "output_type": "display_data"
    },
    {
     "data": {
      "text/plain": [
       "5.494954031056187"
      ]
     },
     "execution_count": 54,
     "metadata": {},
     "output_type": "execute_result"
    }
   ],
   "source": [
    "ada4 = Adaline(5,0,0.001)\n",
    "for i in range(100):\n",
    "    entrenar_neurona(ada4, X, Y)\n",
    "ada4.describir()\n",
    "graficar_funcion(ada4)\n",
    "error_cuadratico_medio(ada4)"
   ]
  },
  {
   "cell_type": "markdown",
   "metadata": {},
   "source": [
    "### Conclusiones\n",
    "\n",
    "Visualmente podemos pensar que se trata de una funcion de grado 3, al probrar \n",
    "con una neurona que tiene 3 entradas mas el sesgo, vemos que efectivamente interpola con\n",
    "los puntos dados de entrenamiento.\n",
    "\n",
    "Vemos que una neurona con 3 entradas basta, ahora, con respecto a la tasa de aprendizaje vemos que mientras mas pequeno el error cuadratico medio baja, sin embargo ya para una tasa de aprendizaje de 0.0001, el error cuadratico se mantiene.\n",
    "\n",
    "Por otro lado, si aumentado el tamano de la entrada obtenemos resultados esperados, si tratamos aproximar a una funcion de grado par el error cuadratico medio se incrementa mucho, por lo que no es una buena opcion independientemente de la los pesos sinapticos, la tasa de aprendizaje o el sesgo.\n",
    "\n",
    "Si aumentamos los paramentros de entrada a un numero impar vemos que si aproxima bien, inclusive baja el error cuadratico medio, casi insignificablemente, quizas podria bajar ese error si se probara con unas tasas de aprendizaje menor o aumentando los parametros de entrada, siempre y cuando sea tamano impar."
   ]
  }
 ],
 "metadata": {
  "kernelspec": {
   "display_name": "Python 3.6.9 64-bit",
   "language": "python",
   "name": "python36964bit19b03d1776a141f8a54345732b0d5224"
  },
  "language_info": {
   "codemirror_mode": {
    "name": "ipython",
    "version": 3
   },
   "file_extension": ".py",
   "mimetype": "text/x-python",
   "name": "python",
   "nbconvert_exporter": "python",
   "pygments_lexer": "ipython3",
   "version": "3.6.9"
  }
 },
 "nbformat": 4,
 "nbformat_minor": 4
}
